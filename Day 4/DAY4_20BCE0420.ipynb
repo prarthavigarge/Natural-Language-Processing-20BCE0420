{
 "cells": [
  {
   "cell_type": "code",
   "execution_count": 1,
   "metadata": {},
   "outputs": [],
   "source": [
    "from sklearn.feature_extraction.text import CountVectorizer\n",
    "vect= CountVectorizer(binary= True)"
   ]
  },
  {
   "cell_type": "code",
   "execution_count": 2,
   "metadata": {},
   "outputs": [
    {
     "data": {
      "text/html": [
       "<style>#sk-container-id-1 {color: black;background-color: white;}#sk-container-id-1 pre{padding: 0;}#sk-container-id-1 div.sk-toggleable {background-color: white;}#sk-container-id-1 label.sk-toggleable__label {cursor: pointer;display: block;width: 100%;margin-bottom: 0;padding: 0.3em;box-sizing: border-box;text-align: center;}#sk-container-id-1 label.sk-toggleable__label-arrow:before {content: \"▸\";float: left;margin-right: 0.25em;color: #696969;}#sk-container-id-1 label.sk-toggleable__label-arrow:hover:before {color: black;}#sk-container-id-1 div.sk-estimator:hover label.sk-toggleable__label-arrow:before {color: black;}#sk-container-id-1 div.sk-toggleable__content {max-height: 0;max-width: 0;overflow: hidden;text-align: left;background-color: #f0f8ff;}#sk-container-id-1 div.sk-toggleable__content pre {margin: 0.2em;color: black;border-radius: 0.25em;background-color: #f0f8ff;}#sk-container-id-1 input.sk-toggleable__control:checked~div.sk-toggleable__content {max-height: 200px;max-width: 100%;overflow: auto;}#sk-container-id-1 input.sk-toggleable__control:checked~label.sk-toggleable__label-arrow:before {content: \"▾\";}#sk-container-id-1 div.sk-estimator input.sk-toggleable__control:checked~label.sk-toggleable__label {background-color: #d4ebff;}#sk-container-id-1 div.sk-label input.sk-toggleable__control:checked~label.sk-toggleable__label {background-color: #d4ebff;}#sk-container-id-1 input.sk-hidden--visually {border: 0;clip: rect(1px 1px 1px 1px);clip: rect(1px, 1px, 1px, 1px);height: 1px;margin: -1px;overflow: hidden;padding: 0;position: absolute;width: 1px;}#sk-container-id-1 div.sk-estimator {font-family: monospace;background-color: #f0f8ff;border: 1px dotted black;border-radius: 0.25em;box-sizing: border-box;margin-bottom: 0.5em;}#sk-container-id-1 div.sk-estimator:hover {background-color: #d4ebff;}#sk-container-id-1 div.sk-parallel-item::after {content: \"\";width: 100%;border-bottom: 1px solid gray;flex-grow: 1;}#sk-container-id-1 div.sk-label:hover label.sk-toggleable__label {background-color: #d4ebff;}#sk-container-id-1 div.sk-serial::before {content: \"\";position: absolute;border-left: 1px solid gray;box-sizing: border-box;top: 0;bottom: 0;left: 50%;z-index: 0;}#sk-container-id-1 div.sk-serial {display: flex;flex-direction: column;align-items: center;background-color: white;padding-right: 0.2em;padding-left: 0.2em;position: relative;}#sk-container-id-1 div.sk-item {position: relative;z-index: 1;}#sk-container-id-1 div.sk-parallel {display: flex;align-items: stretch;justify-content: center;background-color: white;position: relative;}#sk-container-id-1 div.sk-item::before, #sk-container-id-1 div.sk-parallel-item::before {content: \"\";position: absolute;border-left: 1px solid gray;box-sizing: border-box;top: 0;bottom: 0;left: 50%;z-index: -1;}#sk-container-id-1 div.sk-parallel-item {display: flex;flex-direction: column;z-index: 1;position: relative;background-color: white;}#sk-container-id-1 div.sk-parallel-item:first-child::after {align-self: flex-end;width: 50%;}#sk-container-id-1 div.sk-parallel-item:last-child::after {align-self: flex-start;width: 50%;}#sk-container-id-1 div.sk-parallel-item:only-child::after {width: 0;}#sk-container-id-1 div.sk-dashed-wrapped {border: 1px dashed gray;margin: 0 0.4em 0.5em 0.4em;box-sizing: border-box;padding-bottom: 0.4em;background-color: white;}#sk-container-id-1 div.sk-label label {font-family: monospace;font-weight: bold;display: inline-block;line-height: 1.2em;}#sk-container-id-1 div.sk-label-container {text-align: center;}#sk-container-id-1 div.sk-container {/* jupyter's `normalize.less` sets `[hidden] { display: none; }` but bootstrap.min.css set `[hidden] { display: none !important; }` so we also need the `!important` here to be able to override the default hidden behavior on the sphinx rendered scikit-learn.org. See: https://github.com/scikit-learn/scikit-learn/issues/21755 */display: inline-block !important;position: relative;}#sk-container-id-1 div.sk-text-repr-fallback {display: none;}</style><div id=\"sk-container-id-1\" class=\"sk-top-container\"><div class=\"sk-text-repr-fallback\"><pre>CountVectorizer(binary=True)</pre><b>In a Jupyter environment, please rerun this cell to show the HTML representation or trust the notebook. <br />On GitHub, the HTML representation is unable to render, please try loading this page with nbviewer.org.</b></div><div class=\"sk-container\" hidden><div class=\"sk-item\"><div class=\"sk-estimator sk-toggleable\"><input class=\"sk-toggleable__control sk-hidden--visually\" id=\"sk-estimator-id-1\" type=\"checkbox\" checked><label for=\"sk-estimator-id-1\" class=\"sk-toggleable__label sk-toggleable__label-arrow\">CountVectorizer</label><div class=\"sk-toggleable__content\"><pre>CountVectorizer(binary=True)</pre></div></div></div></div></div>"
      ],
      "text/plain": [
       "CountVectorizer(binary=True)"
      ]
     },
     "execution_count": 2,
     "metadata": {},
     "output_type": "execute_result"
    }
   ],
   "source": [
    "corpus=[\"I have German Shepherd\",\"German Shepherd is from Germany\",\"Germans love gossiping\"]\n",
    "\n",
    "vect.fit(corpus)"
   ]
  },
  {
   "cell_type": "code",
   "execution_count": 3,
   "metadata": {},
   "outputs": [],
   "source": [
    "vocab= vect.vocabulary_"
   ]
  },
  {
   "cell_type": "code",
   "execution_count": 4,
   "metadata": {},
   "outputs": [
    {
     "name": "stdout",
     "output_type": "stream",
     "text": [
      "from:0\n",
      "german:1\n",
      "germans:2\n",
      "germany:3\n",
      "gossiping:4\n",
      "have:5\n",
      "is:6\n",
      "love:7\n",
      "shepherd:8\n"
     ]
    }
   ],
   "source": [
    "for key in sorted(vocab.keys()):\n",
    "    print(\"{}:{}\".format(key,vocab[key]))"
   ]
  },
  {
   "cell_type": "code",
   "execution_count": 5,
   "metadata": {},
   "outputs": [
    {
     "name": "stdout",
     "output_type": "stream",
     "text": [
      "[[0 1 0 1 0 0 0 0 1]]\n"
     ]
    }
   ],
   "source": [
    "print(vect.transform([\"Germany has German Shepherd\"]).toarray())"
   ]
  },
  {
   "cell_type": "code",
   "execution_count": 6,
   "metadata": {},
   "outputs": [],
   "source": [
    "from sklearn.metrics.pairwise import cosine_similarity\n",
    "similarity=cosine_similarity(vect.transform([\"Germany has German Shepherd\"]).toarray(),vect.transform([\"Germany has Berlin as capital\"]).toarray())"
   ]
  },
  {
   "cell_type": "code",
   "execution_count": 7,
   "metadata": {},
   "outputs": [
    {
     "name": "stdout",
     "output_type": "stream",
     "text": [
      "[[0.57735027]]\n"
     ]
    }
   ],
   "source": [
    "print(similarity)"
   ]
  },
  {
   "cell_type": "code",
   "execution_count": 10,
   "metadata": {},
   "outputs": [],
   "source": [
    "from sklearn.feature_extraction.text import TfidfVectorizer "
   ]
  },
  {
   "cell_type": "code",
   "execution_count": 11,
   "metadata": {},
   "outputs": [],
   "source": [
    "from sklearn.metrics.pairwise import cosine_similarity"
   ]
  },
  {
   "cell_type": "code",
   "execution_count": 12,
   "metadata": {},
   "outputs": [],
   "source": [
    "vect=TfidfVectorizer(binary=True)"
   ]
  },
  {
   "cell_type": "code",
   "execution_count": 13,
   "metadata": {},
   "outputs": [],
   "source": [
    "corpus=[\"Travellers can now fly directly between Pune and Singapore starting December 2.\" \n",
    "        \"courtesy Vistara which will kick off three to four flights every week.\" \n",
    "        \"International connections from Pune are rare (right now, Dubai is the sole one)\" \n",
    "        \"visitors normally rely on Mumbai airport for the same.\" \n",
    "        \"However, authorities are now planning to connect the city to two more Southeast Asian countries\" \n",
    "        \"once the Singapore route is up and running.\",\n",
    "        \n",
    "        \"In a bid to ease paperwork for millions of tourists, the EU has proposed to make the Schengen visa process an online application system in the next few years.\"\n",
    "        \"The Schengen visa allows travellers to visit and travel across 26 EU member nations for up to 90 days.\"\n",
    "        \"Right now, tourists submit their visa application to a country’s local consulate and collect their passports in person once the visa is issued—a time-consuming process which became complicated during the last two years of the pandemic.\"\n",
    "        \"The new proposal envisions a single digital visa application platform for all EU countries. Instead of a physical sticker, the visa is expected to be a cryptographically signed 2D bar code.\",\n",
    "\n",
    "        \"Leaning out from a bridge leading into Wat Rong Khun, I squint at a stucco moat of outstretched hands and grisly skeletons.\"\n",
    "        \"Two massive horns arch over the walkway, while a few steps ahead, giant statues of Death and Rahu guard the entrance, like burly bouncers poised to restrict my entry into heaven.\"\n",
    "        \"“The bridge of rebirth,” I overhear a foreign couple talking.\" \n",
    "        \"A swampland of desire—enslaved arms—lie in wait blocking a mortal’s road to nirvana.\"\n",
    "        \"This was rebirth as an infernal spectre, not Elton John’s PG-13 “Circle of Life.”\" ,\n",
    "\n",
    "        \"After a tiring snorkelling session in the clear waters of Koh Phangan, instructors Captain Pumpui and Captain Poo are shepherding me and five others on a private speedboat to nearby Bottle Beach for a picnic lunch of sandwiches, macarons and fruit juices.\"\n",
    "        \"I am about 10-12 kilometres from Belmond Napasai’s lush tropical resort in Koh Samui, my home for the last day-and-a-half, and the sun is blindingly bright overhead.\"\n",
    "        \"This is ideal snorkelling weather; we have had a field day gasping at eels and corals underwater.\"\n",
    "        \"But the heat has stymied chatter on our boat.\"\n",
    "        ]\n",
    "    "
   ]
  },
  {
   "cell_type": "code",
   "execution_count": 14,
   "metadata": {},
   "outputs": [
    {
     "data": {
      "text/html": [
       "<style>#sk-container-id-2 {color: black;background-color: white;}#sk-container-id-2 pre{padding: 0;}#sk-container-id-2 div.sk-toggleable {background-color: white;}#sk-container-id-2 label.sk-toggleable__label {cursor: pointer;display: block;width: 100%;margin-bottom: 0;padding: 0.3em;box-sizing: border-box;text-align: center;}#sk-container-id-2 label.sk-toggleable__label-arrow:before {content: \"▸\";float: left;margin-right: 0.25em;color: #696969;}#sk-container-id-2 label.sk-toggleable__label-arrow:hover:before {color: black;}#sk-container-id-2 div.sk-estimator:hover label.sk-toggleable__label-arrow:before {color: black;}#sk-container-id-2 div.sk-toggleable__content {max-height: 0;max-width: 0;overflow: hidden;text-align: left;background-color: #f0f8ff;}#sk-container-id-2 div.sk-toggleable__content pre {margin: 0.2em;color: black;border-radius: 0.25em;background-color: #f0f8ff;}#sk-container-id-2 input.sk-toggleable__control:checked~div.sk-toggleable__content {max-height: 200px;max-width: 100%;overflow: auto;}#sk-container-id-2 input.sk-toggleable__control:checked~label.sk-toggleable__label-arrow:before {content: \"▾\";}#sk-container-id-2 div.sk-estimator input.sk-toggleable__control:checked~label.sk-toggleable__label {background-color: #d4ebff;}#sk-container-id-2 div.sk-label input.sk-toggleable__control:checked~label.sk-toggleable__label {background-color: #d4ebff;}#sk-container-id-2 input.sk-hidden--visually {border: 0;clip: rect(1px 1px 1px 1px);clip: rect(1px, 1px, 1px, 1px);height: 1px;margin: -1px;overflow: hidden;padding: 0;position: absolute;width: 1px;}#sk-container-id-2 div.sk-estimator {font-family: monospace;background-color: #f0f8ff;border: 1px dotted black;border-radius: 0.25em;box-sizing: border-box;margin-bottom: 0.5em;}#sk-container-id-2 div.sk-estimator:hover {background-color: #d4ebff;}#sk-container-id-2 div.sk-parallel-item::after {content: \"\";width: 100%;border-bottom: 1px solid gray;flex-grow: 1;}#sk-container-id-2 div.sk-label:hover label.sk-toggleable__label {background-color: #d4ebff;}#sk-container-id-2 div.sk-serial::before {content: \"\";position: absolute;border-left: 1px solid gray;box-sizing: border-box;top: 0;bottom: 0;left: 50%;z-index: 0;}#sk-container-id-2 div.sk-serial {display: flex;flex-direction: column;align-items: center;background-color: white;padding-right: 0.2em;padding-left: 0.2em;position: relative;}#sk-container-id-2 div.sk-item {position: relative;z-index: 1;}#sk-container-id-2 div.sk-parallel {display: flex;align-items: stretch;justify-content: center;background-color: white;position: relative;}#sk-container-id-2 div.sk-item::before, #sk-container-id-2 div.sk-parallel-item::before {content: \"\";position: absolute;border-left: 1px solid gray;box-sizing: border-box;top: 0;bottom: 0;left: 50%;z-index: -1;}#sk-container-id-2 div.sk-parallel-item {display: flex;flex-direction: column;z-index: 1;position: relative;background-color: white;}#sk-container-id-2 div.sk-parallel-item:first-child::after {align-self: flex-end;width: 50%;}#sk-container-id-2 div.sk-parallel-item:last-child::after {align-self: flex-start;width: 50%;}#sk-container-id-2 div.sk-parallel-item:only-child::after {width: 0;}#sk-container-id-2 div.sk-dashed-wrapped {border: 1px dashed gray;margin: 0 0.4em 0.5em 0.4em;box-sizing: border-box;padding-bottom: 0.4em;background-color: white;}#sk-container-id-2 div.sk-label label {font-family: monospace;font-weight: bold;display: inline-block;line-height: 1.2em;}#sk-container-id-2 div.sk-label-container {text-align: center;}#sk-container-id-2 div.sk-container {/* jupyter's `normalize.less` sets `[hidden] { display: none; }` but bootstrap.min.css set `[hidden] { display: none !important; }` so we also need the `!important` here to be able to override the default hidden behavior on the sphinx rendered scikit-learn.org. See: https://github.com/scikit-learn/scikit-learn/issues/21755 */display: inline-block !important;position: relative;}#sk-container-id-2 div.sk-text-repr-fallback {display: none;}</style><div id=\"sk-container-id-2\" class=\"sk-top-container\"><div class=\"sk-text-repr-fallback\"><pre>TfidfVectorizer(binary=True)</pre><b>In a Jupyter environment, please rerun this cell to show the HTML representation or trust the notebook. <br />On GitHub, the HTML representation is unable to render, please try loading this page with nbviewer.org.</b></div><div class=\"sk-container\" hidden><div class=\"sk-item\"><div class=\"sk-estimator sk-toggleable\"><input class=\"sk-toggleable__control sk-hidden--visually\" id=\"sk-estimator-id-2\" type=\"checkbox\" checked><label for=\"sk-estimator-id-2\" class=\"sk-toggleable__label sk-toggleable__label-arrow\">TfidfVectorizer</label><div class=\"sk-toggleable__content\"><pre>TfidfVectorizer(binary=True)</pre></div></div></div></div></div>"
      ],
      "text/plain": [
       "TfidfVectorizer(binary=True)"
      ]
     },
     "execution_count": 14,
     "metadata": {},
     "output_type": "execute_result"
    }
   ],
   "source": [
    "vect.fit(corpus)"
   ]
  },
  {
   "cell_type": "code",
   "execution_count": 15,
   "metadata": {},
   "outputs": [],
   "source": [
    "vocab=vect.vocabulary_"
   ]
  },
  {
   "cell_type": "code",
   "execution_count": 16,
   "metadata": {},
   "outputs": [
    {
     "name": "stdout",
     "output_type": "stream",
     "text": [
      "travellers:225\n",
      "can:40\n",
      "now:146\n",
      "fly:83\n",
      "directly:66\n",
      "between:29\n",
      "pune:177\n",
      "and:15\n",
      "singapore:196\n",
      "starting:205\n",
      "december:63\n",
      "courtesy:58\n",
      "vistara:233\n",
      "which:242\n",
      "will:244\n",
      "kick:115\n",
      "off:148\n",
      "three:219\n",
      "to:222\n",
      "four:86\n",
      "flights:82\n",
      "every:77\n",
      "week:241\n",
      "international:108\n",
      "connections:50\n",
      "from:87\n",
      "are:18\n",
      "rare:179\n",
      "right:184\n",
      "dubai:67\n",
      "is:110\n",
      "the:216\n",
      "sole:200\n",
      "one:151\n",
      "visitors:232\n",
      "normally:144\n",
      "rely:181\n",
      "on:149\n",
      "mumbai:136\n",
      "airport:10\n",
      "for:84\n",
      "same:189\n",
      "however:102\n",
      "authorities:23\n",
      "planning:168\n",
      "connect:49\n",
      "city:44\n",
      "two:227\n",
      "more:134\n",
      "southeast:201\n",
      "asian:21\n",
      "countriesonce:55\n",
      "route:187\n",
      "up:229\n",
      "running:188\n",
      "in:104\n",
      "bid:30\n",
      "ease:69\n",
      "paperwork:161\n",
      "millions:132\n",
      "of:147\n",
      "tourists:223\n",
      "eu:76\n",
      "has:96\n",
      "proposed:175\n",
      "make:128\n",
      "schengen:192\n",
      "visa:230\n",
      "process:173\n",
      "an:14\n",
      "online:152\n",
      "application:16\n",
      "system:214\n",
      "next:142\n",
      "few:79\n",
      "years:245\n",
      "allows:12\n",
      "visit:231\n",
      "travel:224\n",
      "across:7\n",
      "26:3\n",
      "member:131\n",
      "nations:139\n",
      "90:5\n",
      "days:61\n",
      "submit:211\n",
      "their:217\n",
      "country:56\n",
      "local:124\n",
      "consulate:51\n",
      "collect:47\n",
      "passports:162\n",
      "person:163\n",
      "once:150\n",
      "issued:111\n",
      "time:220\n",
      "consuming:52\n",
      "became:27\n",
      "complicated:48\n",
      "during:68\n",
      "last:118\n",
      "pandemic:160\n",
      "new:141\n",
      "proposal:174\n",
      "envisions:75\n",
      "single:197\n",
      "digital:65\n",
      "platform:169\n",
      "all:11\n",
      "countries:54\n",
      "instead:106\n",
      "physical:166\n",
      "sticker:208\n",
      "expected:78\n",
      "be:25\n",
      "cryptographically:59\n",
      "signed:195\n",
      "2d:4\n",
      "bar:24\n",
      "code:46\n",
      "leaning:120\n",
      "out:155\n",
      "bridge:36\n",
      "leading:119\n",
      "into:109\n",
      "wat:237\n",
      "rong:186\n",
      "khun:114\n",
      "squint:204\n",
      "at:22\n",
      "stucco:209\n",
      "moat:133\n",
      "outstretched:156\n",
      "hands:95\n",
      "grisly:91\n",
      "skeletons:198\n",
      "massive:129\n",
      "horns:101\n",
      "arch:17\n",
      "over:157\n",
      "walkway:235\n",
      "while:243\n",
      "steps:207\n",
      "ahead:9\n",
      "giant:90\n",
      "statues:206\n",
      "death:62\n",
      "rahu:178\n",
      "guard:92\n",
      "entrance:73\n",
      "like:123\n",
      "burly:38\n",
      "bouncers:35\n",
      "poised:170\n",
      "restrict:183\n",
      "my:137\n",
      "entry:74\n",
      "heaven:99\n",
      "rebirth:180\n",
      "overhear:159\n",
      "foreign:85\n",
      "couple:57\n",
      "talking:215\n",
      "swampland:213\n",
      "desire:64\n",
      "enslaved:72\n",
      "arms:19\n",
      "lie:121\n",
      "wait:234\n",
      "blocking:32\n",
      "mortal:135\n",
      "road:185\n",
      "nirvana:143\n",
      "this:218\n",
      "was:236\n",
      "as:20\n",
      "infernal:105\n",
      "spectre:202\n",
      "not:145\n",
      "elton:71\n",
      "john:112\n",
      "pg:164\n",
      "13:2\n",
      "circle:43\n",
      "life:122\n",
      "after:8\n",
      "tiring:221\n",
      "snorkelling:199\n",
      "session:193\n",
      "clear:45\n",
      "waters:238\n",
      "koh:117\n",
      "phangan:165\n",
      "instructors:107\n",
      "captain:41\n",
      "pumpui:176\n",
      "poo:171\n",
      "shepherding:194\n",
      "me:130\n",
      "five:81\n",
      "others:153\n",
      "private:172\n",
      "speedboat:203\n",
      "nearby:140\n",
      "bottle:34\n",
      "beach:26\n",
      "picnic:167\n",
      "lunch:125\n",
      "sandwiches:191\n",
      "macarons:127\n",
      "fruit:88\n",
      "juices:113\n",
      "am:13\n",
      "about:6\n",
      "10:0\n",
      "12:1\n",
      "kilometres:116\n",
      "belmond:28\n",
      "napasai:138\n",
      "lush:126\n",
      "tropical:226\n",
      "resort:182\n",
      "samui:190\n",
      "home:100\n",
      "day:60\n",
      "half:94\n",
      "sun:212\n",
      "blindingly:31\n",
      "bright:37\n",
      "overhead:158\n",
      "ideal:103\n",
      "weather:240\n",
      "we:239\n",
      "have:97\n",
      "had:93\n",
      "field:80\n",
      "gasping:89\n",
      "eels:70\n",
      "corals:53\n",
      "underwater:228\n",
      "but:39\n",
      "heat:98\n",
      "stymied:210\n",
      "chatter:42\n",
      "our:154\n",
      "boat:33\n"
     ]
    }
   ],
   "source": [
    "for key in vocab.keys():\n",
    "    print(\"{}:{}\".format(key,vocab[key]))"
   ]
  },
  {
   "cell_type": "code",
   "execution_count": 17,
   "metadata": {},
   "outputs": [],
   "source": [
    "similarity=cosine_similarity(vect.transform([\"A bullet train, long under construction between Indonesia’s capital Jakarta and the city of Bandung in West Java, will flag off in June 2023. The 142.3 kilometre rail line is part of China’s much touted belt and road initiative and will cut travel time between the two cities from three hours to 40 minutes.\"]).toarray(),vect.transform([\"The drink is there for our taking but there isn’t any time for tasting and we hurry on to the dining car for a meal cooked by the train’s chef Yannis Martineau. I dig into some duck that’s spiced in dark local sauces but retains the classic delicacy of French cooking; even dessert, usually a rich amalgam of milk, fruit and coconut in Thai meals, has a lightness to it.\"]).toarray())"
   ]
  },
  {
   "cell_type": "code",
   "execution_count": 18,
   "metadata": {},
   "outputs": [
    {
     "name": "stdout",
     "output_type": "stream",
     "text": [
      "[[0.28214859]]\n"
     ]
    }
   ],
   "source": [
    "print(similarity)"
   ]
  }
 ],
 "metadata": {
  "kernelspec": {
   "display_name": "Python 3",
   "language": "python",
   "name": "python3"
  },
  "language_info": {
   "codemirror_mode": {
    "name": "ipython",
    "version": 3
   },
   "file_extension": ".py",
   "mimetype": "text/x-python",
   "name": "python",
   "nbconvert_exporter": "python",
   "pygments_lexer": "ipython3",
   "version": "3.10.3"
  },
  "orig_nbformat": 4,
  "vscode": {
   "interpreter": {
    "hash": "f2d81d534a1906747cec8f4b0968a963827d406149485c9bf7cc2072e490fa6e"
   }
  }
 },
 "nbformat": 4,
 "nbformat_minor": 2
}
